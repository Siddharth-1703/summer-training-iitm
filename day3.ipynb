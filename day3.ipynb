{
 "cells": [
  {
   "cell_type": "code",
   "execution_count": 1,
   "id": "f37054c3-d531-4f9a-ae07-f56c265325ab",
   "metadata": {},
   "outputs": [
    {
     "name": "stdin",
     "output_type": "stream",
     "text": [
      "enter a number 5\n"
     ]
    },
    {
     "name": "stdout",
     "output_type": "stream",
     "text": [
      "5 x 1 = 5\n",
      "5 x 2 = 10\n",
      "5 x 3 = 15\n",
      "5 x 4 = 20\n",
      "5 x 5 = 25\n",
      "5 x 6 = 30\n",
      "5 x 7 = 35\n",
      "5 x 8 = 40\n",
      "5 x 9 = 45\n",
      "5 x 10 = 50\n"
     ]
    }
   ],
   "source": [
    "#while loop \n",
    "num=int(input(\"enter a number\"))\n",
    "i=1\n",
    "while i<=10:\n",
    "    print(f\"{num} x {i} = {num * i}\")\n",
    "    i+=1"
   ]
  },
  {
   "cell_type": "code",
   "execution_count": 16,
   "id": "e429314c-4284-4c0a-9ba6-4455c0b2dc14",
   "metadata": {},
   "outputs": [
    {
     "name": "stdin",
     "output_type": "stream",
     "text": [
      "enter password:  12\n"
     ]
    },
    {
     "name": "stdout",
     "output_type": "stream",
     "text": [
      "wrong pass 3 attempt(s) left\n"
     ]
    },
    {
     "name": "stdin",
     "output_type": "stream",
     "text": [
      "enter password:  22\n"
     ]
    },
    {
     "name": "stdout",
     "output_type": "stream",
     "text": [
      "wrong pass 2 attempt(s) left\n"
     ]
    },
    {
     "name": "stdin",
     "output_type": "stream",
     "text": [
      "enter password:  33\n"
     ]
    },
    {
     "name": "stdout",
     "output_type": "stream",
     "text": [
      "wrong pass 1 attempt(s) left\n"
     ]
    },
    {
     "name": "stdin",
     "output_type": "stream",
     "text": [
      "enter password:  33\n"
     ]
    },
    {
     "name": "stdout",
     "output_type": "stream",
     "text": [
      "wrong pass 0 attempt(s) left\n"
     ]
    }
   ],
   "source": [
    "attempt = 4\n",
    "password = \"myna\"\n",
    "\n",
    "while attempt > 0:\n",
    "    userinput = input(\"enter password: \")\n",
    "    if userinput == password:\n",
    "        print(\"access granted\")\n",
    "        break\n",
    "    else:\n",
    "        attempt -= 1\n",
    "        print(f\"wrong pass {attempt} attempt(s) left\")\n"
   ]
  },
  {
   "cell_type": "code",
   "execution_count": 2,
   "id": "42283b8e-db44-434f-b7b2-d0e770495ec3",
   "metadata": {},
   "outputs": [
    {
     "name": "stdin",
     "output_type": "stream",
     "text": [
      "Attempt 1: enter password:  22\n"
     ]
    },
    {
     "name": "stdout",
     "output_type": "stream",
     "text": [
      "wrong pass, 7 attempt(s) left\n"
     ]
    },
    {
     "name": "stdin",
     "output_type": "stream",
     "text": [
      "Attempt 2: enter password:  22\n"
     ]
    },
    {
     "name": "stdout",
     "output_type": "stream",
     "text": [
      "wrong pass, 6 attempt(s) left\n",
      "Attempt 3: can't take input, skipping...\n",
      "Attempt 4: can't take input, skipping...\n"
     ]
    },
    {
     "name": "stdin",
     "output_type": "stream",
     "text": [
      "Attempt 5: enter password:  33\n"
     ]
    },
    {
     "name": "stdout",
     "output_type": "stream",
     "text": [
      "wrong pass, 3 attempt(s) left\n"
     ]
    },
    {
     "name": "stdin",
     "output_type": "stream",
     "text": [
      "Attempt 6: enter password:  44\n"
     ]
    },
    {
     "name": "stdout",
     "output_type": "stream",
     "text": [
      "wrong pass, 2 attempt(s) left\n"
     ]
    },
    {
     "name": "stdin",
     "output_type": "stream",
     "text": [
      "Attempt 7: enter password:  44\n"
     ]
    },
    {
     "name": "stdout",
     "output_type": "stream",
     "text": [
      "wrong pass, 1 attempt(s) left\n"
     ]
    },
    {
     "name": "stdin",
     "output_type": "stream",
     "text": [
      "Attempt 8: enter password:  22\n"
     ]
    },
    {
     "name": "stdout",
     "output_type": "stream",
     "text": [
      "wrong pass, 0 attempt(s) left\n"
     ]
    }
   ],
   "source": [
    "attempt = 8\n",
    "password = \"myna\"\n",
    "turn = 1\n",
    "\n",
    "while attempt > 0:\n",
    "    if turn == 3 or turn == 4:\n",
    "        print(f\"Attempt {turn}: can't take input, skipping...\")\n",
    "        attempt -= 1\n",
    "        turn += 1\n",
    "        continue\n",
    "\n",
    "    userinput = input(f\"Attempt {turn}: enter password: \")\n",
    "    if userinput == password:\n",
    "        print(\"access granted\")\n",
    "        break\n",
    "    else:\n",
    "        attempt -= 1\n",
    "        print(f\"wrong pass, {attempt} attempt(s) left\")\n",
    "        turn += 1\n"
   ]
  },
  {
   "cell_type": "code",
   "execution_count": null,
   "id": "1506a42e-7c95-455d-b9e2-02ab8bacd5d9",
   "metadata": {},
   "outputs": [],
   "source": [
    "#for loop"
   ]
  },
  {
   "cell_type": "code",
   "execution_count": 4,
   "id": "3e10dfa4-d660-4980-b3bd-366ce3444d6c",
   "metadata": {},
   "outputs": [
    {
     "name": "stdout",
     "output_type": "stream",
     "text": [
      "1\n",
      "2\n",
      "3\n",
      "4\n"
     ]
    }
   ],
   "source": [
    "for i in range(1,10):\n",
    "    if i==5:\n",
    "        break\n",
    "    print(i)"
   ]
  },
  {
   "cell_type": "code",
   "execution_count": 5,
   "id": "62a9431f-1fcc-4c0a-bb96-a15c219a61c9",
   "metadata": {},
   "outputs": [
    {
     "name": "stdout",
     "output_type": "stream",
     "text": [
      "1\n",
      "2\n",
      "3\n",
      "4\n",
      "6\n",
      "7\n",
      "8\n",
      "9\n"
     ]
    }
   ],
   "source": [
    "for i in range(1,10):\n",
    "    if i==5:\n",
    "        continue\n",
    "    print(i)\n",
    "    "
   ]
  }
 ],
 "metadata": {
  "kernelspec": {
   "display_name": "Python [conda env:base] *",
   "language": "python",
   "name": "conda-base-py"
  },
  "language_info": {
   "codemirror_mode": {
    "name": "ipython",
    "version": 3
   },
   "file_extension": ".py",
   "mimetype": "text/x-python",
   "name": "python",
   "nbconvert_exporter": "python",
   "pygments_lexer": "ipython3",
   "version": "3.13.5"
  }
 },
 "nbformat": 4,
 "nbformat_minor": 5
}
