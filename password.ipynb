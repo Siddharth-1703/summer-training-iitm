{
 "cells": [
  {
   "cell_type": "code",
   "execution_count": null,
   "id": "6f2b56eb-164c-4371-ad65-eb2b5656772c",
   "metadata": {},
   "outputs": [],
   "source": [
    "password = 21\n",
    "i = 1\n",
    "while i <= 8:\n",
    "    if i > 4:\n",
    "        print(\"You have used all 4 allowed attempts.\")\n",
    "        continue\n",
    "    num = int(input(f\"Attempt {i}/4 - Enter the password: \"))\n",
    "    if num == password:\n",
    "        print(\"Access granted\")\n",
    "        break\n",
    "    else:\n",
    "        print(\"Incorrect password\")\n",
    "        print(\"Access denied\")\n",
    "    i += 1\n",
    "else:\n",
    "    print(\"Access denied. Too many incorrect attempts.\")"
   ]
  },
  {
   "cell_type": "code",
   "execution_count": null,
   "id": "c2338bed-ab57-4c29-8c03-7ff5c8e460f1",
   "metadata": {},
   "outputs": [],
   "source": []
  }
 ],
 "metadata": {
  "kernelspec": {
   "display_name": "Python [conda env:base] *",
   "language": "python",
   "name": "conda-base-py"
  },
  "language_info": {
   "codemirror_mode": {
    "name": "ipython",
    "version": 3
   },
   "file_extension": ".py",
   "mimetype": "text/x-python",
   "name": "python",
   "nbconvert_exporter": "python",
   "pygments_lexer": "ipython3",
   "version": "3.13.5"
  }
 },
 "nbformat": 4,
 "nbformat_minor": 5
}
