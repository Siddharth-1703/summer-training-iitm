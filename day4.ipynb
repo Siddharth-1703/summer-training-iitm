{
 "cells": [
  {
   "cell_type": "code",
   "execution_count": null,
   "id": "a912afbd-ca83-4812-83eb-c942ec7e8eb2",
   "metadata": {},
   "outputs": [],
   "source": [
    "#function\n",
    "syntax- def div()\n",
    "             ^ ^\n",
    "function name parameter\n",
    "function is made to reuse the code multiple times in a program\n",
    "global and local scope of variable doesnt work in python's function loop(define it under the function)"
   ]
  },
  {
   "cell_type": "code",
   "execution_count": 3,
   "id": "e317869f-6146-4f5f-9730-21497e51bd89",
   "metadata": {},
   "outputs": [
    {
     "name": "stdout",
     "output_type": "stream",
     "text": [
      "8\n"
     ]
    }
   ],
   "source": [
    "a=3\n",
    "b=5\n",
    "def sum():\n",
    "    print(a+b)\n",
    "sum()"
   ]
  },
  {
   "cell_type": "code",
   "execution_count": 4,
   "id": "7863d349-7010-432b-94c3-268d78ef5b2e",
   "metadata": {},
   "outputs": [
    {
     "name": "stdout",
     "output_type": "stream",
     "text": [
      "9\n"
     ]
    }
   ],
   "source": [
    "def sum(a,b):\n",
    "    print(a+b)\n",
    "sum(4,5)"
   ]
  },
  {
   "cell_type": "code",
   "execution_count": 5,
   "id": "446923a1-4c5f-4c46-822f-27ff672b19e4",
   "metadata": {},
   "outputs": [
    {
     "name": "stdout",
     "output_type": "stream",
     "text": [
      "8\n"
     ]
    }
   ],
   "source": [
    "#types of argument(user defined) -1.required arguments\n",
    "def add(a,b):\n",
    "    print(a+b)\n",
    "add(4,4) #one value will lead to error as two value is required in this specific case"
   ]
  },
  {
   "cell_type": "code",
   "execution_count": 13,
   "id": "419093f2-0bae-43db-853f-298e729216b9",
   "metadata": {},
   "outputs": [
    {
     "name": "stdout",
     "output_type": "stream",
     "text": [
      "0\n",
      "2\n",
      "4\n",
      "6\n",
      "8\n",
      "10\n",
      "12\n",
      "14\n",
      "16\n",
      "18\n",
      "20\n",
      "22\n",
      "24\n",
      "26\n",
      "28\n"
     ]
    }
   ],
   "source": [
    "#first 15th even number\n",
    "def div():\n",
    "    num = 0\n",
    "    count = 0\n",
    "    while count < 15:\n",
    "        if num % 2 == 0:\n",
    "            print(num)\n",
    "            count += 1\n",
    "        num += 1\n",
    "\n",
    "div()\n"
   ]
  },
  {
   "cell_type": "code",
   "execution_count": 12,
   "id": "d1ee8ab0-27e6-4e13-9daf-0cf6c2695d31",
   "metadata": {},
   "outputs": [
    {
     "name": "stdout",
     "output_type": "stream",
     "text": [
      "myna is 21 years old\n"
     ]
    }
   ],
   "source": [
    "#keyword arguments\n",
    "def student(name,age):\n",
    "    print(name,\"is\",age,\"years old\")\n",
    "student(age=21,name=\"myna\")"
   ]
  },
  {
   "cell_type": "code",
   "execution_count": 51,
   "id": "abb94f21-2335-43e2-ab55-c8517309530f",
   "metadata": {},
   "outputs": [
    {
     "name": "stdout",
     "output_type": "stream",
     "text": [
      "All marks: (80, 85, 90, 75)\n",
      "Total: 330\n"
     ]
    }
   ],
   "source": [
    "#variable length arguments / multi positional\n",
    "def total_marks(*marks):\n",
    "    print(\"All marks:\", marks)\n",
    "    total = 0\n",
    "    for mark in marks:\n",
    "        total += mark\n",
    "    print(\"Total:\", total)\n",
    "\n",
    "total_marks(80, 85, 90, 75)\n",
    "\n"
   ]
  },
  {
   "cell_type": "code",
   "execution_count": 1,
   "id": "0240d48a-f85d-4826-9b1d-b431fa6a9b71",
   "metadata": {},
   "outputs": [
    {
     "name": "stdout",
     "output_type": "stream",
     "text": [
      "hello myna\n"
     ]
    },
    {
     "ename": "NameError",
     "evalue": "name 'arin' is not defined",
     "output_type": "error",
     "traceback": [
      "\u001b[1;31m---------------------------------------------------------------------------\u001b[0m",
      "\u001b[1;31mNameError\u001b[0m                                 Traceback (most recent call last)",
      "Cell \u001b[1;32mIn[1], line 5\u001b[0m\n\u001b[0;32m      3\u001b[0m     \u001b[38;5;28mprint\u001b[39m(\u001b[38;5;124m\"\u001b[39m\u001b[38;5;124mhello\u001b[39m\u001b[38;5;124m\"\u001b[39m,name)\n\u001b[0;32m      4\u001b[0m greet()\n\u001b[1;32m----> 5\u001b[0m greet(arin)\n",
      "\u001b[1;31mNameError\u001b[0m: name 'arin' is not defined"
     ]
    }
   ],
   "source": [
    "#default arguments\n",
    "def greet(name=\"myna\"):\n",
    "    print(\"hello\",name)\n",
    "greet()\n",
    "greet(arin)#it will be overridden"
   ]
  },
  {
   "cell_type": "code",
   "execution_count": null,
   "id": "372020f2-e7dd-4277-87ab-af55d82f88a8",
   "metadata": {},
   "outputs": [],
   "source": [
    "#function assignment"
   ]
  },
  {
   "cell_type": "code",
   "execution_count": 22,
   "id": "227a127e-db2f-40b5-9f7d-e61df3229fd3",
   "metadata": {},
   "outputs": [
    {
     "name": "stdin",
     "output_type": "stream",
     "text": [
      "enter a no. 4\n"
     ]
    },
    {
     "name": "stdout",
     "output_type": "stream",
     "text": [
      "16\n"
     ]
    }
   ],
   "source": [
    "a=int(input(\"enter a no.\"))\n",
    "def sq():\n",
    "    print(a**2)\n",
    "sq()"
   ]
  },
  {
   "cell_type": "code",
   "execution_count": 24,
   "id": "0834aa3b-1455-4cfc-82cf-48f38b07465d",
   "metadata": {},
   "outputs": [
    {
     "name": "stdin",
     "output_type": "stream",
     "text": [
      "enter a no. 4\n",
      "enter a no. 4\n"
     ]
    },
    {
     "name": "stdout",
     "output_type": "stream",
     "text": [
      "8\n"
     ]
    }
   ],
   "source": [
    "a=int(input(\"enter a no.\"))\n",
    "b=int(input(\"enter a no.\"))\n",
    "def add():\n",
    "    print(a+b)\n",
    "add()"
   ]
  },
  {
   "cell_type": "code",
   "execution_count": 27,
   "id": "1f0f2208-5660-410d-ac45-e2f588dcae19",
   "metadata": {},
   "outputs": [
    {
     "name": "stdin",
     "output_type": "stream",
     "text": [
      "enter a no. 7\n"
     ]
    },
    {
     "name": "stdout",
     "output_type": "stream",
     "text": [
      "7 is a odd no.\n"
     ]
    }
   ],
   "source": [
    "num=int(input(\"enter a no.\"))\n",
    "def div():\n",
    "    if num%2==0:\n",
    "        print(num,\"is a even no.\")\n",
    "    else:\n",
    "        print(num,\"is a odd no.\")\n",
    "div()"
   ]
  },
  {
   "cell_type": "code",
   "execution_count": 28,
   "id": "e6458e2c-6990-4d97-9e98-8ce8f5ae6ba9",
   "metadata": {},
   "outputs": [
    {
     "data": {
      "text/plain": [
       "function"
      ]
     },
     "execution_count": 28,
     "metadata": {},
     "output_type": "execute_result"
    }
   ],
   "source": [
    "type(lambda x: x)"
   ]
  },
  {
   "cell_type": "code",
   "execution_count": 29,
   "id": "b9328bc3-6b17-4ed9-97ea-00ded6aecb5f",
   "metadata": {},
   "outputs": [
    {
     "name": "stdout",
     "output_type": "stream",
     "text": [
      "None\n"
     ]
    }
   ],
   "source": [
    "def foo(): pass\n",
    "print(foo())"
   ]
  },
  {
   "cell_type": "code",
   "execution_count": 30,
   "id": "60ba6382-bc1c-4dca-ad5c-001d7c158abb",
   "metadata": {},
   "outputs": [
    {
     "data": {
      "text/plain": [
       "3"
      ]
     },
     "execution_count": 30,
     "metadata": {},
     "output_type": "execute_result"
    }
   ],
   "source": [
    " len([1, 2, 3])\n"
   ]
  },
  {
   "cell_type": "code",
   "execution_count": 35,
   "id": "0a4c2024-37bd-4173-b4a4-1b729d0eb9c8",
   "metadata": {},
   "outputs": [
    {
     "name": "stdout",
     "output_type": "stream",
     "text": [
      "15\n"
     ]
    }
   ],
   "source": [
    "#lambda function\n",
    "x = lambda a, b: a * b\n",
    "print(x(5, 3))"
   ]
  },
  {
   "cell_type": "code",
   "execution_count": 34,
   "id": "f8b286b5-491e-4267-b604-411ed8604804",
   "metadata": {},
   "outputs": [
    {
     "name": "stdout",
     "output_type": "stream",
     "text": [
      "The factorial of 5 is 120\n"
     ]
    }
   ],
   "source": [
    "def factorial(n):\n",
    "    if n == 0 or n == 1:\n",
    "        return 1\n",
    "    else:\n",
    "        return n * factorial(n - 1)\n",
    "num = 5\n",
    "result = factorial(num)\n",
    "print(f\"The factorial of {num} is {result}\")\n"
   ]
  },
  {
   "cell_type": "code",
   "execution_count": 36,
   "id": "979cd597-f31c-4c08-ae9e-902694c6515f",
   "metadata": {},
   "outputs": [
    {
     "name": "stdout",
     "output_type": "stream",
     "text": [
      "Largest element: 25\n"
     ]
    }
   ],
   "source": [
    "def find_largest(lst):\n",
    "    return max(lst)\n",
    "numbers = [5, 12, 7, 3, 25, 10]\n",
    "print(\"Largest element:\", find_largest(numbers))\n"
   ]
  },
  {
   "cell_type": "code",
   "execution_count": 69,
   "id": "0cf7aa98-11bb-4938-827e-f20caabcff9d",
   "metadata": {},
   "outputs": [
    {
     "name": "stdout",
     "output_type": "stream",
     "text": [
      "anym\n"
     ]
    }
   ],
   "source": [
    "def rev(s):\n",
    "    r = \"\"\n",
    "    for i in s:\n",
    "        r = i + r\n",
    "    return r\n",
    "\n",
    "s = \"myna\"\n",
    "print(rev(s))\n"
   ]
  },
  {
   "cell_type": "code",
   "execution_count": 40,
   "id": "a922c77a-ebe7-419e-a9cb-7d35738a1ac7",
   "metadata": {},
   "outputs": [
    {
     "data": {
      "text/plain": [
       "True"
      ]
     },
     "execution_count": 40,
     "metadata": {},
     "output_type": "execute_result"
    }
   ],
   "source": [
    " bool('False')"
   ]
  },
  {
   "cell_type": "code",
   "execution_count": 41,
   "id": "0883760e-9db4-4d95-9116-7351aadfa82b",
   "metadata": {},
   "outputs": [
    {
     "name": "stdout",
     "output_type": "stream",
     "text": [
      "True\n",
      "True\n",
      "False\n",
      "True\n"
     ]
    }
   ],
   "source": [
    "def is_palindrome(s):\n",
    "    s = s.lower().replace(\" \", \"\")  \n",
    "    return s == s[::-1]\n",
    "print(is_palindrome(\"madam\"))\n",
    "print(is_palindrome(\"racecar\"))      \n",
    "print(is_palindrome(\"hello\"))        \n",
    "print(is_palindrome(\"Nurses Run\"))"
   ]
  },
  {
   "cell_type": "code",
   "execution_count": 52,
   "id": "2b1a5ad5-ad41-4c75-881d-2e3f79f894cd",
   "metadata": {},
   "outputs": [
    {
     "name": "stdout",
     "output_type": "stream",
     "text": [
      "apap\n"
     ]
    }
   ],
   "source": [
    "def reverse_str(s):\n",
    "    reverse_str=\"\"\n",
    "    for char in s:\n",
    "        reverse_str= char+reverse_str\n",
    "    return reverse_str\n",
    "print(reverse_str(\"papa\"))"
   ]
  },
  {
   "cell_type": "code",
   "execution_count": 56,
   "id": "6cc8436e-856e-46c1-8e04-b194d2e729c3",
   "metadata": {},
   "outputs": [
    {
     "name": "stdout",
     "output_type": "stream",
     "text": [
      "fibbonacci series:0112358132134"
     ]
    }
   ],
   "source": [
    "def fibbonacci_recursion(n):\n",
    "    if n<=1:\n",
    "        return n\n",
    "    return fibbonacci_recursion(n-1)+fibbonacci_recursion(n-2)\n",
    "print(\"fibbonacci series:\",end=\"\")\n",
    "for i in range(10):\n",
    "        print(fibbonacci_recursion(i),end=\"\")"
   ]
  },
  {
   "cell_type": "code",
   "execution_count": 59,
   "id": "2c5672f3-d5b6-4b52-867d-40472099ebc9",
   "metadata": {},
   "outputs": [
    {
     "data": {
      "text/plain": [
       "list"
      ]
     },
     "execution_count": 59,
     "metadata": {},
     "output_type": "execute_result"
    }
   ],
   "source": [
    "#list data structure of python syntax below\n",
    "l1=[7,\"s\",7,5]\n",
    "type(l1)"
   ]
  },
  {
   "cell_type": "code",
   "execution_count": null,
   "id": "6cf60853-5cc2-44a6-8fd9-8ef410261deb",
   "metadata": {},
   "outputs": [],
   "source": [
    "#features/charactistic of list- 1.mutable 2.ordered 3.collection of multiple datatypes 4. duplicacy allowed"
   ]
  },
  {
   "cell_type": "code",
   "execution_count": 90,
   "id": "b5977d40-dd17-4b1b-98ec-ba0a144062a8",
   "metadata": {},
   "outputs": [
    {
     "name": "stdout",
     "output_type": "stream",
     "text": [
      "[1, 2, 3, 4]\n",
      "[1, 2, 4, 3]\n",
      "[1, 2, 3, 4, 5, 6, 7]\n",
      "[2, 4, 6, 8]\n",
      "[1, 3]\n",
      "[]\n",
      "0\n",
      "2\n",
      "[5, 6, 7, 8, 9]\n",
      "[6, 5, 4, 3, 2, 1, 1]\n",
      "[2, 4, 6, 8]\n"
     ]
    }
   ],
   "source": [
    "#method of list-\n",
    "# 1.append()-it will add item at the end of list\n",
    "l1=[1,2,3]\n",
    "l1.append(4)\n",
    "print(l1)\n",
    "# 2.insert()-insert new item and can add it in any index syntax-l1.insert(index,item)\n",
    "l1=[1,2,3]\n",
    "l1.insert(2,4)\n",
    "print(l1)\n",
    "# 3. extend()- we use this to add multiple elements into the list\n",
    "l2=[1,2,3,4]\n",
    "l2.extend((5,6,7))\n",
    "print(l2)\n",
    "# 4. pop()- remove last item\n",
    "l3=[2,4,6,8,10]\n",
    "l3.pop()\n",
    "print(l3)\n",
    "#5. remove()- remove first match\n",
    "l4=[1,2,3]\n",
    "l4.remove(2)\n",
    "print(l4)\n",
    "#6. clear()-clean the whole list\n",
    "l5=[1,2,3]\n",
    "l5.clear()\n",
    "print(l5)\n",
    "#7. index- gets the index of the value\n",
    "l5=[3,4,5,6,7]\n",
    "print(l5.index(3))\n",
    "#8.count- count the occurance\n",
    "l5=[1,1,2,3,4,5,6]\n",
    "print(l5.count(1))\n",
    "# 9. sort()- sort the list ascending\n",
    "l6=[9,8,7,6,5]\n",
    "l6.sort()\n",
    "print(l6)\n",
    "# 10. reverse()- reverse the list\n",
    "l6=[1,1,2,3,4,5,6]\n",
    "l6.reverse()\n",
    "print(l6)\n",
    "# 11. copy()- copies the list \n",
    "l7=[2,4,6,8]\n",
    "l8=l7.copy()\n",
    "print(l8)"
   ]
  },
  {
   "cell_type": "code",
   "execution_count": 94,
   "id": "64eb06d6-159a-4228-a570-8d2d233ef773",
   "metadata": {},
   "outputs": [
    {
     "name": "stdout",
     "output_type": "stream",
     "text": [
      "[0, 1, 2, 3]\n",
      "[4, 5, 6, 7, 8, 9]\n"
     ]
    }
   ],
   "source": [
    "#slicing \n",
    "l1=[0,1,2,3,4,5,6,7,8,9]\n",
    "print(l1[0:4])\n",
    "print(l1[4:])"
   ]
  },
  {
   "cell_type": "code",
   "execution_count": 95,
   "id": "2cf7f39e-a13d-4375-ab8e-802eb8030ccf",
   "metadata": {},
   "outputs": [
    {
     "data": {
      "text/plain": [
       "[1, 4, 9]"
      ]
     },
     "execution_count": 95,
     "metadata": {},
     "output_type": "execute_result"
    }
   ],
   "source": [
    "#list comprehension \n",
    "[i**2 for i in [1,2,3]]"
   ]
  },
  {
   "cell_type": "code",
   "execution_count": 96,
   "id": "2a6fd0af-d1b3-44f1-a71c-eebd32f77b1b",
   "metadata": {},
   "outputs": [
    {
     "data": {
      "text/plain": [
       "[15, 17, 25, 27, 35, 37]"
      ]
     },
     "execution_count": 96,
     "metadata": {},
     "output_type": "execute_result"
    }
   ],
   "source": [
    "[10*i+j for i in [1,2,3] for j in [5,7]]"
   ]
  }
 ],
 "metadata": {
  "kernelspec": {
   "display_name": "Python [conda env:base] *",
   "language": "python",
   "name": "conda-base-py"
  },
  "language_info": {
   "codemirror_mode": {
    "name": "ipython",
    "version": 3
   },
   "file_extension": ".py",
   "mimetype": "text/x-python",
   "name": "python",
   "nbconvert_exporter": "python",
   "pygments_lexer": "ipython3",
   "version": "3.13.5"
  }
 },
 "nbformat": 4,
 "nbformat_minor": 5
}
