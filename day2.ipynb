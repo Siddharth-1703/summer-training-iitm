{
 "cells": [
  {
   "cell_type": "code",
   "execution_count": 5,
   "id": "79f7bde0-7b80-4e43-b89d-5a45f520e757",
   "metadata": {},
   "outputs": [
    {
     "name": "stdin",
     "output_type": "stream",
     "text": [
      "enter the product tomato\n",
      "enter the quantity 2\n",
      "enter the price 350\n"
     ]
    },
    {
     "name": "stdout",
     "output_type": "stream",
     "text": [
      "total amount for tomato 700\n"
     ]
    }
   ],
   "source": [
    "prod=str(input(\"enter the product\"))\n",
    "quan=int(input(\"enter the quantity\"))\n",
    "price=int(input(\"enter the price\"))\n",
    "tprice=quan*price\n",
    "print(\"total amount for\",prod,tprice)"
   ]
  },
  {
   "cell_type": "code",
   "execution_count": 6,
   "id": "99beac47-5ec5-40b3-b210-6f68ecc12d33",
   "metadata": {},
   "outputs": [
    {
     "name": "stdout",
     "output_type": "stream",
     "text": [
      "65.38\n"
     ]
    }
   ],
   "source": [
    "num1=15\n",
    "num2=20\n",
    "num3=30.38\n",
    "sum=num1+num2+num3\n",
    "print(sum)"
   ]
  },
  {
   "cell_type": "code",
   "execution_count": 11,
   "id": "267ab6cd-2b9c-42df-aeb8-49211d8746db",
   "metadata": {},
   "outputs": [
    {
     "name": "stdout",
     "output_type": "stream",
     "text": [
      "15cat\n"
     ]
    }
   ],
   "source": [
    "num1=15\n",
    "str1=\"cat\"\n",
    "print(str(num1)+str1)"
   ]
  },
  {
   "cell_type": "code",
   "execution_count": 12,
   "id": "3744a06b-e55f-4a9c-adf7-f7e73959200b",
   "metadata": {},
   "outputs": [
    {
     "name": "stdout",
     "output_type": "stream",
     "text": [
      "1515\n"
     ]
    }
   ],
   "source": [
    "num1=15\n",
    "str1=\"15\"\n",
    "print(str(num1)+str1)"
   ]
  },
  {
   "cell_type": "code",
   "execution_count": 14,
   "id": "ca87cf65-5429-4f22-bafe-4a2f41680b4d",
   "metadata": {},
   "outputs": [
    {
     "name": "stdout",
     "output_type": "stream",
     "text": [
      "1515\n"
     ]
    }
   ],
   "source": [
    "str1=\"15\"\n",
    "str2=\"15\"\n",
    "print(str1+str2)"
   ]
  },
  {
   "cell_type": "code",
   "execution_count": null,
   "id": "2e730e61-71fa-453f-b774-032610bc6e57",
   "metadata": {},
   "outputs": [],
   "source": [
    "#type conversion\n",
    "1.explicit\n",
    "2.implicit"
   ]
  },
  {
   "cell_type": "code",
   "execution_count": null,
   "id": "f051f3ea-d547-49f0-b8bc-4e6d67a8acfc",
   "metadata": {},
   "outputs": [],
   "source": [
    "#control flow\n",
    "1.if\n",
    "2.elif\n",
    "3.else"
   ]
  },
  {
   "cell_type": "code",
   "execution_count": 15,
   "id": "360107b3-cadb-48f1-a55f-951348f9a51b",
   "metadata": {},
   "outputs": [
    {
     "name": "stdout",
     "output_type": "stream",
     "text": [
      "hello\n"
     ]
    }
   ],
   "source": [
    "a=10\n",
    "if a>5:\n",
    "    print(\"hello\")"
   ]
  },
  {
   "cell_type": "code",
   "execution_count": 16,
   "id": "90cd78d0-86cd-4b40-9b50-11df8a9b181f",
   "metadata": {},
   "outputs": [],
   "source": [
    "a=10\n",
    "if a>15:\n",
    "    print(\"hello\")"
   ]
  },
  {
   "cell_type": "code",
   "execution_count": 17,
   "id": "58093237-05bc-4c57-81e0-5538d1bf848f",
   "metadata": {},
   "outputs": [
    {
     "name": "stdout",
     "output_type": "stream",
     "text": [
      "bye\n"
     ]
    }
   ],
   "source": [
    "a=10\n",
    "if a>15:\n",
    "    print(\"hello\")\n",
    "else:\n",
    "    print(\"bye\")"
   ]
  },
  {
   "cell_type": "code",
   "execution_count": 18,
   "id": "91a6e9ee-5d1b-4900-aa0b-4a2f2c4723d8",
   "metadata": {},
   "outputs": [
    {
     "name": "stdin",
     "output_type": "stream",
     "text": [
      "enter your age 19\n"
     ]
    },
    {
     "name": "stdout",
     "output_type": "stream",
     "text": [
      "you are eligible to vote\n"
     ]
    }
   ],
   "source": [
    "age=int(input(\"enter your age\"))\n",
    "if age>=18:\n",
    "    print(\"you are eligible to vote\")\n",
    "else:\n",
    "    print(\"you are not eligible to vote\")"
   ]
  },
  {
   "cell_type": "code",
   "execution_count": 21,
   "id": "04774328-29b5-45d0-a0d2-c57b10965c7a",
   "metadata": {},
   "outputs": [
    {
     "name": "stdin",
     "output_type": "stream",
     "text": [
      "enter month name january\n"
     ]
    },
    {
     "name": "stdout",
     "output_type": "stream",
     "text": [
      "winter\n"
     ]
    }
   ],
   "source": [
    "month=str(input(\"enter month name\"))\n",
    "if month in[\"december\",\"january\",\"february\"]:\n",
    "    print(\"winter\")\n",
    "elif month in[\"march\",\"april\",\"may\"]:\n",
    "    print(\"spring\")\n",
    "elif month in[\"june\",\"july\",\"august\"]:\n",
    "    print(\"summer\")\n",
    "elif month in[\"september\",\"october\",\"november\"]:\n",
    "    print(\"autumn\")\n",
    "else:\n",
    "    print(\"invalid month name\")\n",
    "\n"
   ]
  },
  {
   "cell_type": "code",
   "execution_count": 23,
   "id": "97704ebf-aca1-4899-bc82-a5640d8c75ec",
   "metadata": {},
   "outputs": [
    {
     "name": "stdin",
     "output_type": "stream",
     "text": [
      "enter mode of transportation mode air\n",
      "enter transport vehicle preferred airplane\n"
     ]
    },
    {
     "name": "stdout",
     "output_type": "stream",
     "text": [
      "airplane being used for air transportation\n"
     ]
    }
   ],
   "source": [
    "transport=str(input(\"enter mode of transportation mode\"))\n",
    "transportveh=str(input(\"enter transport vehicle preferred\"))\n",
    "if transport==\"land\": \n",
    "    if transportveh==\"car\":\n",
    "        print(\"car being used for land transportation\")\n",
    "    elif transportveh==\"bike\":\n",
    "        print(\"bike being used for land transportation\")\n",
    "    elif transportveh==\"bus\":\n",
    "        print(\"bus being used for land transportation\")\n",
    "if transport==\"water\":\n",
    "    if transportveh==\"boat\":\n",
    "        print(\"boat being used for water transportation\")\n",
    "    elif transportveh==\"ship\":\n",
    "        print(\"ship being used for water transportation\")\n",
    "if transport==\"air\":\n",
    "    if transportveh==\"airplane\":\n",
    "        print(\"airplane being used for air transportation\")\n",
    "    elif transportveh==\"helicopter\":\n",
    "        print(\"helicopter being used for air transportation\")\n",
    "\n",
    "    "
   ]
  },
  {
   "cell_type": "code",
   "execution_count": null,
   "id": "6e5e1a66-79b2-42cf-bff9-b3acc2c61c44",
   "metadata": {},
   "outputs": [],
   "source": [
    "#grouping \n",
    "1.while\n",
    "2.for"
   ]
  },
  {
   "cell_type": "code",
   "execution_count": 27,
   "id": "82b477a3-ffda-4a21-a5f3-f4722837d266",
   "metadata": {},
   "outputs": [
    {
     "name": "stdout",
     "output_type": "stream",
     "text": [
      "2\n",
      "4\n",
      "6\n",
      "8\n",
      "10\n",
      "12\n",
      "14\n",
      "16\n",
      "18\n",
      "20\n"
     ]
    }
   ],
   "source": [
    "num=2 \n",
    "i=1\n",
    "while i<=10:\n",
    "    product=num*i\n",
    "    print(product)\n",
    "    i+=1"
   ]
  }
 ],
 "metadata": {
  "kernelspec": {
   "display_name": "Python [conda env:base] *",
   "language": "python",
   "name": "conda-base-py"
  },
  "language_info": {
   "codemirror_mode": {
    "name": "ipython",
    "version": 3
   },
   "file_extension": ".py",
   "mimetype": "text/x-python",
   "name": "python",
   "nbconvert_exporter": "python",
   "pygments_lexer": "ipython3",
   "version": "3.13.5"
  }
 },
 "nbformat": 4,
 "nbformat_minor": 5
}
