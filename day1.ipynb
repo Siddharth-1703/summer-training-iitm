{
 "cells": [
  {
   "cell_type": "code",
   "execution_count": 1,
   "id": "a76060a3-01a9-4bee-9bff-93e9cfeb6668",
   "metadata": {},
   "outputs": [
    {
     "name": "stdout",
     "output_type": "stream",
     "text": [
      "<class 'int'>\n"
     ]
    }
   ],
   "source": [
    "a=5\n",
    "print(type(a))"
   ]
  },
  {
   "cell_type": "code",
   "execution_count": 2,
   "id": "16d1a858-14b4-4285-9163-771a5907577e",
   "metadata": {},
   "outputs": [
    {
     "name": "stdout",
     "output_type": "stream",
     "text": [
      "<class 'float'>\n"
     ]
    }
   ],
   "source": [
    "a=4.4\n",
    "print(type(a))"
   ]
  },
  {
   "cell_type": "code",
   "execution_count": 4,
   "id": "28c7627e-13b9-436c-9494-59dbeb041dba",
   "metadata": {},
   "outputs": [
    {
     "name": "stdout",
     "output_type": "stream",
     "text": [
      "<class 'bool'>\n"
     ]
    }
   ],
   "source": [
    "a=True\n",
    "print(type(a))"
   ]
  },
  {
   "cell_type": "code",
   "execution_count": 14,
   "id": "d4275414-9bd2-40d2-9a4f-9d21b754d2be",
   "metadata": {},
   "outputs": [
    {
     "name": "stdout",
     "output_type": "stream",
     "text": [
      "<class 'str'>\n"
     ]
    }
   ],
   "source": [
    "a=3\n",
    "print(type(str(a)))"
   ]
  },
  {
   "cell_type": "code",
   "execution_count": 13,
   "id": "c40e68f8-9d5f-4ecb-9f0e-252f8d9dec88",
   "metadata": {},
   "outputs": [
    {
     "name": "stdout",
     "output_type": "stream",
     "text": [
      "<class 'bool'>\n"
     ]
    }
   ],
   "source": [
    "a=3\n",
    "print(type(bool(a)))"
   ]
  },
  {
   "cell_type": "code",
   "execution_count": 15,
   "id": "0773b9e5-b411-4919-8179-4332ed45781e",
   "metadata": {},
   "outputs": [
    {
     "name": "stdout",
     "output_type": "stream",
     "text": [
      "<class 'float'>\n"
     ]
    }
   ],
   "source": [
    "a=3\n",
    "b=float(a)\n",
    "print(type(b))"
   ]
  },
  {
   "cell_type": "code",
   "execution_count": null,
   "id": "4504eaf8-3589-4dd8-a793-860185c8eaea",
   "metadata": {},
   "outputs": [],
   "source": [
    "#arthimetic operators"
   ]
  },
  {
   "cell_type": "code",
   "execution_count": null,
   "id": "e6192d8a-887a-46ac-92c3-23a74ed34b2b",
   "metadata": {},
   "outputs": [],
   "source": [
    "+,-,*,/,%,//,**"
   ]
  },
  {
   "cell_type": "code",
   "execution_count": 16,
   "id": "9f324832-6e6b-4748-843b-6014efab40dd",
   "metadata": {},
   "outputs": [
    {
     "name": "stdout",
     "output_type": "stream",
     "text": [
      "7\n"
     ]
    }
   ],
   "source": [
    "a=3\n",
    "b=4\n",
    "print(a+b)"
   ]
  },
  {
   "cell_type": "code",
   "execution_count": 17,
   "id": "b068f0c6-d07d-4295-bdeb-e539d0e85504",
   "metadata": {},
   "outputs": [
    {
     "name": "stdout",
     "output_type": "stream",
     "text": [
      "-1\n"
     ]
    }
   ],
   "source": [
    "a=3\n",
    "b=4\n",
    "print(a-b)"
   ]
  },
  {
   "cell_type": "code",
   "execution_count": 18,
   "id": "640ea79b-0ace-4a78-a6fe-6a3afb70401b",
   "metadata": {},
   "outputs": [
    {
     "name": "stdout",
     "output_type": "stream",
     "text": [
      "12\n"
     ]
    }
   ],
   "source": [
    "a=3\n",
    "b=4\n",
    "print(a*b)"
   ]
  },
  {
   "cell_type": "code",
   "execution_count": 19,
   "id": "10c56114-8a28-4d12-accc-3b89ced01312",
   "metadata": {},
   "outputs": [
    {
     "name": "stdout",
     "output_type": "stream",
     "text": [
      "0.6\n"
     ]
    }
   ],
   "source": [
    "a=3\n",
    "b=5\n",
    "print(a/b)"
   ]
  },
  {
   "cell_type": "code",
   "execution_count": 20,
   "id": "a6022269-1581-4de1-b17a-b699a70dc1be",
   "metadata": {},
   "outputs": [
    {
     "name": "stdout",
     "output_type": "stream",
     "text": [
      "2\n"
     ]
    }
   ],
   "source": [
    "a=6\n",
    "b=4\n",
    "print(a%b)"
   ]
  },
  {
   "cell_type": "code",
   "execution_count": 21,
   "id": "fe519953-2b33-41a8-8b20-14cb924123b9",
   "metadata": {},
   "outputs": [
    {
     "name": "stdout",
     "output_type": "stream",
     "text": [
      "2\n"
     ]
    }
   ],
   "source": [
    "a=8\n",
    "b=4\n",
    "print(a//b)"
   ]
  },
  {
   "cell_type": "code",
   "execution_count": 23,
   "id": "8354fbaa-ba3b-44e5-a7ef-38bec2d46862",
   "metadata": {},
   "outputs": [
    {
     "name": "stdin",
     "output_type": "stream",
     "text": [
      "enter the number 4\n"
     ]
    },
    {
     "name": "stdout",
     "output_type": "stream",
     "text": [
      "256\n"
     ]
    }
   ],
   "source": [
    "a=int(input(\"enter the number\"))\n",
    "b=4\n",
    "print(a**b)"
   ]
  },
  {
   "cell_type": "code",
   "execution_count": 24,
   "id": "eddda567-7623-4ab6-80fe-85575ba8a592",
   "metadata": {},
   "outputs": [
    {
     "name": "stdin",
     "output_type": "stream",
     "text": [
      "enter the number 5\n",
      "enter the number 6\n"
     ]
    },
    {
     "name": "stdout",
     "output_type": "stream",
     "text": [
      "11\n",
      "-1\n",
      "30\n",
      "0.8333333333333334\n",
      "5\n",
      "0\n",
      "15625\n"
     ]
    }
   ],
   "source": [
    "a=int(input(\"enter the number\"))\n",
    "b=int(input(\"enter the number\"))\n",
    "print(a+b)\n",
    "print(a-b)\n",
    "print(a*b)\n",
    "print(a/b)\n",
    "print(a%b)\n",
    "print(a//b)\n",
    "print(a**b)"
   ]
  },
  {
   "cell_type": "code",
   "execution_count": null,
   "id": "7eaa83d0-bc50-430a-8ac3-67015abddbfc",
   "metadata": {},
   "outputs": [],
   "source": [
    "#comparison operator"
   ]
  },
  {
   "cell_type": "code",
   "execution_count": null,
   "id": "0363232a-d512-4b29-a114-68b78204dccb",
   "metadata": {},
   "outputs": [],
   "source": [
    "<,>,<=,>=,==,!="
   ]
  },
  {
   "cell_type": "code",
   "execution_count": 25,
   "id": "e30ae881-174f-46e8-a379-aeb56bf68e7a",
   "metadata": {},
   "outputs": [
    {
     "name": "stdout",
     "output_type": "stream",
     "text": [
      "True\n"
     ]
    }
   ],
   "source": [
    "a=5\n",
    "b=6\n",
    "print(a<b)"
   ]
  },
  {
   "cell_type": "code",
   "execution_count": 26,
   "id": "f37a37bd-59e9-47ac-a659-a5bb115312e3",
   "metadata": {},
   "outputs": [
    {
     "name": "stdout",
     "output_type": "stream",
     "text": [
      "False\n"
     ]
    }
   ],
   "source": [
    "a=5\n",
    "b=6\n",
    "print(a>b)"
   ]
  },
  {
   "cell_type": "code",
   "execution_count": 27,
   "id": "c9156455-d060-4684-8f8a-6696fe6f2aae",
   "metadata": {},
   "outputs": [
    {
     "name": "stdout",
     "output_type": "stream",
     "text": [
      "True\n"
     ]
    }
   ],
   "source": [
    "a=5\n",
    "b=6\n",
    "print(a<=b)"
   ]
  },
  {
   "cell_type": "code",
   "execution_count": 28,
   "id": "ed167580-6a1b-47be-9f96-e54ecc0ffdd6",
   "metadata": {},
   "outputs": [
    {
     "name": "stdout",
     "output_type": "stream",
     "text": [
      "False\n"
     ]
    }
   ],
   "source": [
    "a=5\n",
    "b=6\n",
    "print(a>=b)"
   ]
  },
  {
   "cell_type": "code",
   "execution_count": 29,
   "id": "4c3e3d3f-fd2c-4046-9c0c-a830b4a78bdb",
   "metadata": {},
   "outputs": [
    {
     "name": "stdout",
     "output_type": "stream",
     "text": [
      "True\n"
     ]
    }
   ],
   "source": [
    "a=6\n",
    "b=6\n",
    "print(a==b)"
   ]
  },
  {
   "cell_type": "code",
   "execution_count": 30,
   "id": "c6189c5e-d45b-4a8e-8474-3537f1d59994",
   "metadata": {},
   "outputs": [
    {
     "name": "stdout",
     "output_type": "stream",
     "text": [
      "True\n"
     ]
    }
   ],
   "source": [
    "a=7\n",
    "b=6\n",
    "print(a!=b)"
   ]
  },
  {
   "cell_type": "code",
   "execution_count": 33,
   "id": "3938b169-8d93-498e-9520-ca19dd51549d",
   "metadata": {},
   "outputs": [
    {
     "name": "stdin",
     "output_type": "stream",
     "text": [
      "enter the number 7\n",
      "enter the number 8\n",
      "enter the number 9\n"
     ]
    },
    {
     "name": "stdout",
     "output_type": "stream",
     "text": [
      "24 8.0\n",
      "False\n",
      "False\n"
     ]
    }
   ],
   "source": [
    "x=int(input(\"enter the number\"))\n",
    "y=int(input(\"enter the number\"))\n",
    "z=int(input(\"enter the number\"))\n",
    "sum=x+y+z\n",
    "avg=(x+y+z)/3\n",
    "print(sum,avg)\n",
    "print(avg>50)\n",
    "print((sum/5)==0)"
   ]
  },
  {
   "cell_type": "code",
   "execution_count": null,
   "id": "875f991e-4d2b-429d-860d-c05223ca5f52",
   "metadata": {},
   "outputs": [],
   "source": [
    "#logical operators"
   ]
  },
  {
   "cell_type": "code",
   "execution_count": null,
   "id": "238fd126-ff5b-4c4b-a355-c3dac46ec2cc",
   "metadata": {},
   "outputs": [],
   "source": [
    "and,or,not "
   ]
  },
  {
   "cell_type": "code",
   "execution_count": 34,
   "id": "a7efb36f-0191-4a55-bf06-56152da1187f",
   "metadata": {},
   "outputs": [
    {
     "name": "stdout",
     "output_type": "stream",
     "text": [
      "False\n"
     ]
    }
   ],
   "source": [
    "a=4\n",
    "b=5\n",
    "print(a>b and a==b)"
   ]
  },
  {
   "cell_type": "code",
   "execution_count": 35,
   "id": "48b15f8d-7796-45fc-90d8-83421ac82f46",
   "metadata": {},
   "outputs": [
    {
     "name": "stdout",
     "output_type": "stream",
     "text": [
      "True\n"
     ]
    }
   ],
   "source": [
    "a=4\n",
    "b=4\n",
    "print(a>b or a==b)"
   ]
  },
  {
   "cell_type": "code",
   "execution_count": 36,
   "id": "5c2d6e0e-116e-4a27-ad62-24301aa064c1",
   "metadata": {},
   "outputs": [
    {
     "name": "stdout",
     "output_type": "stream",
     "text": [
      "False\n"
     ]
    }
   ],
   "source": [
    "a=4\n",
    "b=4\n",
    "print(not(a==b))"
   ]
  },
  {
   "cell_type": "code",
   "execution_count": 37,
   "id": "dec8be09-3754-4df6-9bca-5bf029be0f70",
   "metadata": {},
   "outputs": [
    {
     "name": "stdout",
     "output_type": "stream",
     "text": [
      "True\n"
     ]
    }
   ],
   "source": [
    "a=4\n",
    "b=6\n",
    "print(not(a==b))"
   ]
  },
  {
   "cell_type": "code",
   "execution_count": null,
   "id": "279979de-e207-4734-b3b0-8902b4a2722d",
   "metadata": {},
   "outputs": [],
   "source": [
    "#memebership operator"
   ]
  },
  {
   "cell_type": "code",
   "execution_count": null,
   "id": "1bfe2172-9f28-4ddf-9587-997c115b8cf6",
   "metadata": {},
   "outputs": [],
   "source": [
    "in,not in"
   ]
  },
  {
   "cell_type": "code",
   "execution_count": 38,
   "id": "8f9d98a7-5423-4a81-a09e-2095e864d569",
   "metadata": {},
   "outputs": [
    {
     "name": "stdout",
     "output_type": "stream",
     "text": [
      "2\n",
      "4\n",
      "6\n",
      "8\n"
     ]
    }
   ],
   "source": [
    "a=[2,4,6,8]\n",
    "for x in a:\n",
    "    print(x)"
   ]
  },
  {
   "cell_type": "code",
   "execution_count": 40,
   "id": "ff2036d8-da90-49fc-ad37-4c21e2154667",
   "metadata": {},
   "outputs": [
    {
     "name": "stdout",
     "output_type": "stream",
     "text": [
      "False\n"
     ]
    }
   ],
   "source": [
    "a=\"python is imp\"\n",
    "print(\"is\" not in a)"
   ]
  },
  {
   "cell_type": "code",
   "execution_count": 48,
   "id": "e9ae9ec7-f1e0-4b48-89b4-5713f09f4823",
   "metadata": {},
   "outputs": [
    {
     "name": "stdin",
     "output_type": "stream",
     "text": [
      "enter number 5\n",
      "enter number 6\n"
     ]
    },
    {
     "name": "stdout",
     "output_type": "stream",
     "text": [
      "11 30\n",
      "False\n",
      "False\n",
      "5 True\n",
      "5 True\n",
      "5 True\n",
      "5 True\n",
      "5 True\n",
      "5 True\n",
      "5 True\n",
      "5 True\n",
      "5 True\n",
      "5 True\n"
     ]
    }
   ],
   "source": [
    "num1=int(input(\"enter number\"))\n",
    "num2=int(input(\"enter number\"))\n",
    "add=num1+num2\n",
    "mul=num1*num2\n",
    "print(add,mul)\n",
    "print(num1==num2)\n",
    "print(num1>num2)\n",
    "l1=[1,2,3,4,5,6,7,8,9,0]\n",
    "for x in l1:\n",
    "    print(num1,num2 in l1)"
   ]
  },
  {
   "cell_type": "code",
   "execution_count": null,
   "id": "fca446d0-cf21-464c-8b19-61e820f11747",
   "metadata": {},
   "outputs": [],
   "source": [
    "#identity operators"
   ]
  },
  {
   "cell_type": "code",
   "execution_count": null,
   "id": "7423a834-8b3a-4394-ba0e-ece0e3bff020",
   "metadata": {},
   "outputs": [],
   "source": [
    "is,is not"
   ]
  },
  {
   "cell_type": "code",
   "execution_count": 49,
   "id": "9307a048-0d20-46bc-9c9f-e1eb3a9b2d6d",
   "metadata": {},
   "outputs": [
    {
     "name": "stdout",
     "output_type": "stream",
     "text": [
      "True\n"
     ]
    }
   ],
   "source": [
    "a=6\n",
    "b=6\n",
    "print(a is b)"
   ]
  },
  {
   "cell_type": "code",
   "execution_count": 51,
   "id": "2aa9116a-bbe7-4d6f-b543-c66ab95ab6ef",
   "metadata": {},
   "outputs": [
    {
     "name": "stdout",
     "output_type": "stream",
     "text": [
      "False\n"
     ]
    }
   ],
   "source": [
    "a=6\n",
    "b=6\n",
    "print(a is not b)"
   ]
  },
  {
   "cell_type": "code",
   "execution_count": 50,
   "id": "691cae3e-d032-4c76-9179-a8a6dc8b42f5",
   "metadata": {},
   "outputs": [
    {
     "name": "stdout",
     "output_type": "stream",
     "text": [
      "False\n"
     ]
    }
   ],
   "source": [
    "a=6\n",
    "b=5\n",
    "print(a is b)"
   ]
  }
 ],
 "metadata": {
  "kernelspec": {
   "display_name": "Python [conda env:base] *",
   "language": "python",
   "name": "conda-base-py"
  },
  "language_info": {
   "codemirror_mode": {
    "name": "ipython",
    "version": 3
   },
   "file_extension": ".py",
   "mimetype": "text/x-python",
   "name": "python",
   "nbconvert_exporter": "python",
   "pygments_lexer": "ipython3",
   "version": "3.13.5"
  }
 },
 "nbformat": 4,
 "nbformat_minor": 5
}
